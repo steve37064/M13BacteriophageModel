{
  "nbformat": 4,
  "nbformat_minor": 0,
  "metadata": {
    "colab": {
      "name": "cellsys_project_final_rates",
      "provenance": [],
      "collapsed_sections": [
        "3TYZfMfsqh6p",
        "5mFhIV4aUoF0",
        "NfZRby5JIK6Z",
        "laAbn7wVQUnr",
        "gXOWXIVyZvtb",
        "CtgRBH_WT0lv",
        "HN_oz0lsUbmo",
        "brqpXKsoXQj4",
        "adpDEU5WfsAq"
      ],
      "toc_visible": true
    },
    "kernelspec": {
      "name": "python3",
      "display_name": "Python 3"
    }
  },
  "cells": [
    {
      "cell_type": "markdown",
      "metadata": {
        "id": "80pxvVjvetVt",
        "colab_type": "text"
      },
      "source": [
        "# setup"
      ]
    },
    {
      "cell_type": "code",
      "metadata": {
        "id": "Qarrqcgibc7p",
        "colab_type": "code",
        "colab": {}
      },
      "source": [
        "# packages\n",
        "import re\n",
        "import pandas as pd\n",
        "import seaborn as sns\n",
        "import matplotlib.pyplot as plt\n",
        "import numpy as np"
      ],
      "execution_count": 0,
      "outputs": []
    },
    {
      "cell_type": "code",
      "metadata": {
        "id": "vpJoSL78etA8",
        "colab_type": "code",
        "colab": {}
      },
      "source": [
        "# other setup\n",
        "projdir = \"drive/My Drive/CPCB 1/cellsys/\""
      ],
      "execution_count": 0,
      "outputs": []
    },
    {
      "cell_type": "markdown",
      "metadata": {
        "id": "3TYZfMfsqh6p",
        "colab_type": "text"
      },
      "source": [
        "# plot tx length vs. half-life"
      ]
    },
    {
      "cell_type": "markdown",
      "metadata": {
        "id": "jwHc2mMCqnV3",
        "colab_type": "text"
      },
      "source": [
        "## read in data"
      ]
    },
    {
      "cell_type": "code",
      "metadata": {
        "id": "y7PRR5WwM8nN",
        "colab_type": "code",
        "outputId": "c780d7ac-1e07-46cb-b1b6-4205d880a4bc",
        "colab": {
          "base_uri": "https://localhost:8080/",
          "height": 583
        }
      },
      "source": [
        "readinlist = []\n",
        "with open(projdir+\"cellsys_project_txlen.txt\") as f:\n",
        "  line = f.readline()\n",
        "  while line:\n",
        "    if not line.startswith('#'):\n",
        "      splitline = re.split('% |; |=',line.strip('\\n'))\n",
        "      splitline = [s.strip() for s in splitline]\n",
        "      splitline[0] = splitline[0].strip('L|LO')\n",
        "      readinlist.append(splitline)\n",
        "    line = f.readline()\n",
        "\n",
        "df_txlen = pd.DataFrame(readinlist, columns=['name','length','comment'])\n",
        "df_txlen = df_txlen.set_index(\"name\")\n",
        "df_txlen"
      ],
      "execution_count": 0,
      "outputs": [
        {
          "output_type": "execute_result",
          "data": {
            "text/html": [
              "<div>\n",
              "<style scoped>\n",
              "    .dataframe tbody tr th:only-of-type {\n",
              "        vertical-align: middle;\n",
              "    }\n",
              "\n",
              "    .dataframe tbody tr th {\n",
              "        vertical-align: top;\n",
              "    }\n",
              "\n",
              "    .dataframe thead th {\n",
              "        text-align: right;\n",
              "    }\n",
              "</style>\n",
              "<table border=\"1\" class=\"dataframe\">\n",
              "  <thead>\n",
              "    <tr style=\"text-align: right;\">\n",
              "      <th></th>\n",
              "      <th>length</th>\n",
              "      <th>comment</th>\n",
              "    </tr>\n",
              "    <tr>\n",
              "      <th>name</th>\n",
              "      <th></th>\n",
              "      <th></th>\n",
              "    </tr>\n",
              "  </thead>\n",
              "  <tbody>\n",
              "    <tr>\n",
              "      <th>A</th>\n",
              "      <td>1900</td>\n",
              "      <td>%Nucleotide Length of Transcript A</td>\n",
              "    </tr>\n",
              "    <tr>\n",
              "      <th>B</th>\n",
              "      <td>1000</td>\n",
              "      <td>%Nucleotide Length of Transcript B</td>\n",
              "    </tr>\n",
              "    <tr>\n",
              "      <th>H</th>\n",
              "      <td>320</td>\n",
              "      <td>%Nucleotide Length of Transcript H</td>\n",
              "    </tr>\n",
              "    <tr>\n",
              "      <th>Z</th>\n",
              "      <td>1600</td>\n",
              "      <td>%Nucleotide Length of Transcript Z</td>\n",
              "    </tr>\n",
              "    <tr>\n",
              "      <th>W</th>\n",
              "      <td>1270</td>\n",
              "      <td>%Nucleotide Length of Transcript W</td>\n",
              "    </tr>\n",
              "    <tr>\n",
              "      <th>P2</th>\n",
              "      <td>1200</td>\n",
              "      <td>%Nucleotide Length of P2 Coding Region</td>\n",
              "    </tr>\n",
              "    <tr>\n",
              "      <th>P10</th>\n",
              "      <td>350</td>\n",
              "      <td>%Nucleotide Length of P10 Coding Region</td>\n",
              "    </tr>\n",
              "    <tr>\n",
              "      <th>P5</th>\n",
              "      <td>270</td>\n",
              "      <td>%Nucleotide Length of P5 Coding Region</td>\n",
              "    </tr>\n",
              "    <tr>\n",
              "      <th>P8</th>\n",
              "      <td>220</td>\n",
              "      <td>%Nucleotide Length of P8 Coding Region</td>\n",
              "    </tr>\n",
              "    <tr>\n",
              "      <th>P3</th>\n",
              "      <td>1300</td>\n",
              "      <td>%Nucleotide Length of P3 Coding Region</td>\n",
              "    </tr>\n",
              "    <tr>\n",
              "      <th>P6</th>\n",
              "      <td>340</td>\n",
              "      <td>%Nucleotide Length of P6 Coding Region</td>\n",
              "    </tr>\n",
              "    <tr>\n",
              "      <th>P1</th>\n",
              "      <td>1040</td>\n",
              "      <td>%Nucleotide Length of P1 Coding Region</td>\n",
              "    </tr>\n",
              "    <tr>\n",
              "      <th>P11</th>\n",
              "      <td>310</td>\n",
              "      <td>%Nucleotide Length of P11 Coding Region</td>\n",
              "    </tr>\n",
              "    <tr>\n",
              "      <th>P4</th>\n",
              "      <td>1270</td>\n",
              "      <td>%Nucleotide Length of P4 Coding Region</td>\n",
              "    </tr>\n",
              "    <tr>\n",
              "      <th>P9</th>\n",
              "      <td>98</td>\n",
              "      <td>%Nucleotide Length of P9 Coding Region</td>\n",
              "    </tr>\n",
              "    <tr>\n",
              "      <th>P7</th>\n",
              "      <td>101</td>\n",
              "      <td>%Nucleotide Length of P7 Coding Region</td>\n",
              "    </tr>\n",
              "  </tbody>\n",
              "</table>\n",
              "</div>"
            ],
            "text/plain": [
              "     length                                  comment\n",
              "name                                                \n",
              "A      1900       %Nucleotide Length of Transcript A\n",
              "B      1000       %Nucleotide Length of Transcript B\n",
              "H       320       %Nucleotide Length of Transcript H\n",
              "Z      1600       %Nucleotide Length of Transcript Z\n",
              "W      1270       %Nucleotide Length of Transcript W\n",
              "P2     1200   %Nucleotide Length of P2 Coding Region\n",
              "P10     350  %Nucleotide Length of P10 Coding Region\n",
              "P5      270   %Nucleotide Length of P5 Coding Region\n",
              "P8      220   %Nucleotide Length of P8 Coding Region\n",
              "P3     1300   %Nucleotide Length of P3 Coding Region\n",
              "P6      340   %Nucleotide Length of P6 Coding Region\n",
              "P1     1040   %Nucleotide Length of P1 Coding Region\n",
              "P11     310  %Nucleotide Length of P11 Coding Region\n",
              "P4     1270   %Nucleotide Length of P4 Coding Region\n",
              "P9       98   %Nucleotide Length of P9 Coding Region\n",
              "P7      101   %Nucleotide Length of P7 Coding Region"
            ]
          },
          "metadata": {
            "tags": []
          },
          "execution_count": 5
        }
      ]
    },
    {
      "cell_type": "code",
      "metadata": {
        "id": "zg542ACYemTp",
        "colab_type": "code",
        "outputId": "864d306d-82ac-4a8f-e837-ced52bdac637",
        "colab": {
          "base_uri": "https://localhost:8080/",
          "height": 394
        }
      },
      "source": [
        "# read in the half life table\n",
        "df_halflife = pd.read_table(projdir+\"mrna_halflife.txt\")\n",
        "df_halflife[\"Length\"] = pd.Series()\n",
        "pcodedlist = df_halflife[\"Proteins Coded\"].str.split(\" \")\n",
        "for i in range(df_halflife.shape[0]):\n",
        "  l = pcodedlist[i]\n",
        "  out = sum([int(df_txlen.loc[x,\"length\"]) for x in l])\n",
        "  df_halflife.iloc[i, 3] = out\n",
        "df_halflife"
      ],
      "execution_count": 0,
      "outputs": [
        {
          "output_type": "execute_result",
          "data": {
            "text/html": [
              "<div>\n",
              "<style scoped>\n",
              "    .dataframe tbody tr th:only-of-type {\n",
              "        vertical-align: middle;\n",
              "    }\n",
              "\n",
              "    .dataframe tbody tr th {\n",
              "        vertical-align: top;\n",
              "    }\n",
              "\n",
              "    .dataframe thead th {\n",
              "        text-align: right;\n",
              "    }\n",
              "</style>\n",
              "<table border=\"1\" class=\"dataframe\">\n",
              "  <thead>\n",
              "    <tr style=\"text-align: right;\">\n",
              "      <th></th>\n",
              "      <th>mRNA Name</th>\n",
              "      <th>Proteins Coded</th>\n",
              "      <th>Half-life (minutes)</th>\n",
              "      <th>Length</th>\n",
              "    </tr>\n",
              "  </thead>\n",
              "  <tbody>\n",
              "    <tr>\n",
              "      <th>0</th>\n",
              "      <td>A</td>\n",
              "      <td>P2 P5 P7 P9 P8</td>\n",
              "      <td>0.57</td>\n",
              "      <td>1889.0</td>\n",
              "    </tr>\n",
              "    <tr>\n",
              "      <th>1</th>\n",
              "      <td>B</td>\n",
              "      <td>P10 P5 P7 P9 P8</td>\n",
              "      <td>2.00</td>\n",
              "      <td>1039.0</td>\n",
              "    </tr>\n",
              "    <tr>\n",
              "      <th>2</th>\n",
              "      <td>C</td>\n",
              "      <td>P5 P7 P9 P8</td>\n",
              "      <td>2.00</td>\n",
              "      <td>689.0</td>\n",
              "    </tr>\n",
              "    <tr>\n",
              "      <th>3</th>\n",
              "      <td>D</td>\n",
              "      <td>P5 P7 P9 P8</td>\n",
              "      <td>2.00</td>\n",
              "      <td>689.0</td>\n",
              "    </tr>\n",
              "    <tr>\n",
              "      <th>4</th>\n",
              "      <td>E</td>\n",
              "      <td>P5 P7 P9 P8</td>\n",
              "      <td>2.50</td>\n",
              "      <td>689.0</td>\n",
              "    </tr>\n",
              "    <tr>\n",
              "      <th>5</th>\n",
              "      <td>F</td>\n",
              "      <td>P5 P7 P9 P8</td>\n",
              "      <td>6.00</td>\n",
              "      <td>689.0</td>\n",
              "    </tr>\n",
              "    <tr>\n",
              "      <th>6</th>\n",
              "      <td>G</td>\n",
              "      <td>P9 P8</td>\n",
              "      <td>8.00</td>\n",
              "      <td>318.0</td>\n",
              "    </tr>\n",
              "    <tr>\n",
              "      <th>7</th>\n",
              "      <td>H</td>\n",
              "      <td>P9 P8</td>\n",
              "      <td>10.00</td>\n",
              "      <td>318.0</td>\n",
              "    </tr>\n",
              "    <tr>\n",
              "      <th>8</th>\n",
              "      <td>Z</td>\n",
              "      <td>P3 P6</td>\n",
              "      <td>NaN</td>\n",
              "      <td>1640.0</td>\n",
              "    </tr>\n",
              "    <tr>\n",
              "      <th>9</th>\n",
              "      <td>Y</td>\n",
              "      <td>P3 P6 P1 P11</td>\n",
              "      <td>NaN</td>\n",
              "      <td>2990.0</td>\n",
              "    </tr>\n",
              "    <tr>\n",
              "      <th>10</th>\n",
              "      <td>W</td>\n",
              "      <td>P4</td>\n",
              "      <td>NaN</td>\n",
              "      <td>1270.0</td>\n",
              "    </tr>\n",
              "  </tbody>\n",
              "</table>\n",
              "</div>"
            ],
            "text/plain": [
              "   mRNA Name   Proteins Coded  Half-life (minutes)  Length\n",
              "0          A   P2 P5 P7 P9 P8                 0.57  1889.0\n",
              "1          B  P10 P5 P7 P9 P8                 2.00  1039.0\n",
              "2          C      P5 P7 P9 P8                 2.00   689.0\n",
              "3          D      P5 P7 P9 P8                 2.00   689.0\n",
              "4          E      P5 P7 P9 P8                 2.50   689.0\n",
              "5          F      P5 P7 P9 P8                 6.00   689.0\n",
              "6          G            P9 P8                 8.00   318.0\n",
              "7          H            P9 P8                10.00   318.0\n",
              "8          Z            P3 P6                  NaN  1640.0\n",
              "9          Y     P3 P6 P1 P11                  NaN  2990.0\n",
              "10         W               P4                  NaN  1270.0"
            ]
          },
          "metadata": {
            "tags": []
          },
          "execution_count": 64
        }
      ]
    },
    {
      "cell_type": "markdown",
      "metadata": {
        "id": "YVlywyU3qpSm",
        "colab_type": "text"
      },
      "source": [
        "## plot"
      ]
    },
    {
      "cell_type": "code",
      "metadata": {
        "id": "Li_2yPOLfqC5",
        "colab_type": "code",
        "outputId": "9a261ffe-6b35-4b63-d581-d679f7e7e37a",
        "colab": {
          "base_uri": "https://localhost:8080/",
          "height": 298
        }
      },
      "source": [
        "x = df_halflife.iloc[:8][\"Length\"].to_numpy()\n",
        "y = df_halflife.iloc[:8][\"Half-life (minutes)\"].to_numpy()\n",
        "ax = sns.scatterplot(x=x,y=y)\n",
        "plt.title('mRNA degradation rates')\n",
        "\n",
        "# fit\n",
        "y_exp = np.polyfit(x,np.log(y),1)\n",
        "plt.plot(x, np.exp(y_exp[1])*np.exp(y_exp[0]*x))\n",
        "\n",
        "# y_log = np.polyfit(np.log(x),y,1)\n",
        "# plt.plot(y_log[0]*x+y_log[1])\n",
        "\n",
        "y_lin = np.polyfit(x,y,1)\n",
        "plt.plot(x,y_lin[0]*x+y_lin[1])\n",
        "\n",
        "ax.legend([\"exponential\", \"linear\"])"
      ],
      "execution_count": 0,
      "outputs": [
        {
          "output_type": "execute_result",
          "data": {
            "text/plain": [
              "<matplotlib.legend.Legend at 0x7ff14a54aa90>"
            ]
          },
          "metadata": {
            "tags": []
          },
          "execution_count": 80
        },
        {
          "output_type": "display_data",
          "data": {
            "image/png": "[encoded data removed]",
            "text/plain": [
              "<Figure size 432x288 with 1 Axes>"
            ]
          },
          "metadata": {
            "tags": []
          }
        }
      ]
    },
    {
      "cell_type": "markdown",
      "metadata": {
        "id": "lsgnCRLI2opG",
        "colab_type": "text"
      },
      "source": [
        "## degradation rates"
      ]
    },
    {
      "cell_type": "code",
      "metadata": {
        "id": "JhnJHBEQ2n-u",
        "colab_type": "code",
        "outputId": "d751ea08-57f1-4158-9a93-98c97b1c2db5",
        "colab": {
          "base_uri": "https://localhost:8080/",
          "height": 363
        }
      },
      "source": [
        "# read in the degradation table\n",
        "df_degrad = pd.read_table(projdir+\"mrna_degrad2.txt\")\n",
        "df_degrad[\"Length\"] = pd.Series()\n",
        "pcodedlist = df_degrad[\"Proteins Coded\"].str.split(\" \")\n",
        "for i in range(df_degrad.shape[0]):\n",
        "  l = pcodedlist[i]\n",
        "  out = sum([int(df_txlen.loc[x,\"length\"]) for x in l])\n",
        "  df_degrad.iloc[i, 3] = out\n",
        "df_degrad"
      ],
      "execution_count": 0,
      "outputs": [
        {
          "output_type": "execute_result",
          "data": {
            "text/html": [
              "<div>\n",
              "<style scoped>\n",
              "    .dataframe tbody tr th:only-of-type {\n",
              "        vertical-align: middle;\n",
              "    }\n",
              "\n",
              "    .dataframe tbody tr th {\n",
              "        vertical-align: top;\n",
              "    }\n",
              "\n",
              "    .dataframe thead th {\n",
              "        text-align: right;\n",
              "    }\n",
              "</style>\n",
              "<table border=\"1\" class=\"dataframe\">\n",
              "  <thead>\n",
              "    <tr style=\"text-align: right;\">\n",
              "      <th></th>\n",
              "      <th>mRNA Name</th>\n",
              "      <th>Proteins Coded</th>\n",
              "      <th>Rate</th>\n",
              "      <th>Length</th>\n",
              "    </tr>\n",
              "  </thead>\n",
              "  <tbody>\n",
              "    <tr>\n",
              "      <th>0</th>\n",
              "      <td>A</td>\n",
              "      <td>P2 P5 P7 P9 P8</td>\n",
              "      <td>0.020387</td>\n",
              "      <td>1889.0</td>\n",
              "    </tr>\n",
              "    <tr>\n",
              "      <th>1</th>\n",
              "      <td>B</td>\n",
              "      <td>P10 P5 P7 P9 P8</td>\n",
              "      <td>0.005776</td>\n",
              "      <td>1039.0</td>\n",
              "    </tr>\n",
              "    <tr>\n",
              "      <th>2</th>\n",
              "      <td>D</td>\n",
              "      <td>P5 P7 P9 P8</td>\n",
              "      <td>0.005776</td>\n",
              "      <td>689.0</td>\n",
              "    </tr>\n",
              "    <tr>\n",
              "      <th>3</th>\n",
              "      <td>E</td>\n",
              "      <td>P5 P7 P9 P8</td>\n",
              "      <td>0.004621</td>\n",
              "      <td>689.0</td>\n",
              "    </tr>\n",
              "    <tr>\n",
              "      <th>4</th>\n",
              "      <td>F</td>\n",
              "      <td>P5 P7 P9 P8</td>\n",
              "      <td>0.001925</td>\n",
              "      <td>689.0</td>\n",
              "    </tr>\n",
              "    <tr>\n",
              "      <th>5</th>\n",
              "      <td>G</td>\n",
              "      <td>P9 P8</td>\n",
              "      <td>0.001444</td>\n",
              "      <td>318.0</td>\n",
              "    </tr>\n",
              "    <tr>\n",
              "      <th>6</th>\n",
              "      <td>H</td>\n",
              "      <td>P9 P8</td>\n",
              "      <td>0.001155</td>\n",
              "      <td>318.0</td>\n",
              "    </tr>\n",
              "    <tr>\n",
              "      <th>7</th>\n",
              "      <td>Z</td>\n",
              "      <td>P3 P6</td>\n",
              "      <td>0.001925</td>\n",
              "      <td>1640.0</td>\n",
              "    </tr>\n",
              "    <tr>\n",
              "      <th>8</th>\n",
              "      <td>Y</td>\n",
              "      <td>P3 P6 P1 P11</td>\n",
              "      <td>0.001925</td>\n",
              "      <td>2990.0</td>\n",
              "    </tr>\n",
              "    <tr>\n",
              "      <th>9</th>\n",
              "      <td>W</td>\n",
              "      <td>P4</td>\n",
              "      <td>0.001925</td>\n",
              "      <td>1270.0</td>\n",
              "    </tr>\n",
              "  </tbody>\n",
              "</table>\n",
              "</div>"
            ],
            "text/plain": [
              "  mRNA Name   Proteins Coded      Rate  Length\n",
              "0         A   P2 P5 P7 P9 P8  0.020387  1889.0\n",
              "1         B  P10 P5 P7 P9 P8  0.005776  1039.0\n",
              "2         D      P5 P7 P9 P8  0.005776   689.0\n",
              "3         E      P5 P7 P9 P8  0.004621   689.0\n",
              "4         F      P5 P7 P9 P8  0.001925   689.0\n",
              "5         G            P9 P8  0.001444   318.0\n",
              "6         H            P9 P8  0.001155   318.0\n",
              "7         Z            P3 P6  0.001925  1640.0\n",
              "8         Y     P3 P6 P1 P11  0.001925  2990.0\n",
              "9         W               P4  0.001925  1270.0"
            ]
          },
          "metadata": {
            "tags": []
          },
          "execution_count": 6
        }
      ]
    },
    {
      "cell_type": "code",
      "metadata": {
        "id": "KTXoUyOq5ECD",
        "colab_type": "code",
        "outputId": "4c133dea-e746-48e2-94af-31a1eadeb715",
        "colab": {
          "base_uri": "https://localhost:8080/",
          "height": 330
        }
      },
      "source": [
        "x = df_degrad.iloc[:7][\"Length\"].to_numpy()\n",
        "y = df_degrad.iloc[:7][\"Rate\"].to_numpy()\n",
        "ax = sns.scatterplot(x=x,y=y)\n",
        "\n",
        "ax.set(xlabel='Length', ylabel='Degradation rate (1/s)')\n",
        "plt.title('mRNA degradation rates')\n",
        "\n",
        "# fit\n",
        "y_exp = np.polyfit(x,np.log(y),1)\n",
        "print(y_exp)\n",
        "plt.plot(x, np.exp(y_exp[1])*np.exp(y_exp[0]*x))\n",
        "\n",
        "# y_log = np.polyfit(np.log(x),y,1)\n",
        "# plt.plot(y_log[0]*x+y_log[1])\n",
        "\n",
        "y_lin = np.polyfit(x,y,1)\n",
        "plt.plot(x,y_lin[0]*x+y_lin[1])\n",
        "\n",
        "ax.legend([\"exponential\", \"linear\"])"
      ],
      "execution_count": 0,
      "outputs": [
        {
          "output_type": "stream",
          "text": [
            "[ 1.70684029e-03 -6.96366259e+00]\n"
          ],
          "name": "stdout"
        },
        {
          "output_type": "execute_result",
          "data": {
            "text/plain": [
              "<matplotlib.legend.Legend at 0x7f4200a876d8>"
            ]
          },
          "metadata": {
            "tags": []
          },
          "execution_count": 8
        },
        {
          "output_type": "display_data",
          "data": {
            "image/png": "[encoded data removed]",
            "text/plain": [
              "<Figure size 432x288 with 1 Axes>"
            ]
          },
          "metadata": {
            "tags": []
          }
        }
      ]
    }
  ]
}